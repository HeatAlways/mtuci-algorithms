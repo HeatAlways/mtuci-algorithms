{
 "cells": [
  {
   "cell_type": "markdown",
   "metadata": {
    "id": "WPvB9TcMmKA6"
   },
   "source": [
    "# Лабораторная работа №5\n",
    "# Рекурсия. Фракталы."
   ]
  },
  {
   "cell_type": "markdown",
   "metadata": {
    "id": "96Gi_LEvmSVH"
   },
   "source": [
    "## Выполнил студент группы Казыханов Рамиль Ильясович БВТ2004\n",
    "***"
   ]
  },
  {
   "cell_type": "markdown",
   "metadata": {
    "id": "4clYOyb0mbEv"
   },
   "source": [
    "### Задание:\n",
    "Реализовать генерацию заданного типа фрактала с применением рекурсивных функций.\n",
    "\n",
    "\n",
    "Добавить возможность задания глубины фрактала. \n",
    "\n",
    "\n",
    "Оценить глубину рекурсии. \n",
    "\n",
    "\n",
    "Построить таблицу зависимости времени построения от глубины фрактала."
   ]
  },
  {
   "cell_type": "markdown",
   "metadata": {
    "id": "wDXHbUmMmhRL"
   },
   "source": [
    "### Список фракталов:\n",
    "\n",
    "Кривая Коха\n",
    "| Кривая Гильберта\n",
    "| Кривая Серпинского\n",
    "| Салфетка Серпинского\n",
    "| Ковер Серпинского\n",
    "| Дерево Пифагора "
   ]
  },
  {
   "cell_type": "markdown",
   "metadata": {
    "id": "Wggfn8l7nG72"
   },
   "source": [
    "### Выполнение:"
   ]
  },
  {
   "cell_type": "code",
   "execution_count": 3,
   "metadata": {},
   "outputs": [],
   "source": [
    "from datetime import datetime as t\n",
    "from ipycanvas import Canvas, MultiCanvas, hold_canvas\n",
    "import math\n",
    "from tabulate import tabulate\n",
    "\n",
    "WIDTH = 600\n",
    "HEIGHT = 600\n",
    "\n",
    "# \"Черепашья графика\". Позволяет рисовать линии, начало которых \n",
    "# идёт с конца предыдущей линии, т.е. класс помогает рисовать линии последовательно,\n",
    "# друг за другом. Такой механизм облегчает реализацию генерации некоторых фракталов.\n",
    "class TurtleGraphics:\n",
    "    def __init__(self, canvas: Canvas):\n",
    "        self.last_x = None\n",
    "        self.last_y = None\n",
    "        self.angle = 0\n",
    "        self._canvas = canvas\n",
    "        self._canvas.clear()\n",
    "        \n",
    "    def begin(self, start_x: int, start_y: int):\n",
    "        self.last_x = start_x\n",
    "        self.last_y = start_y\n",
    "        self._canvas.begin_path()\n",
    "        self._canvas.move_to(start_x, start_y)\n",
    "        \n",
    "    def rotate(self, delta: float):\n",
    "        self.angle += delta\n",
    "        \n",
    "    def close(self):\n",
    "        self._canvas.close_path()\n",
    "        \n",
    "    def fill(self):\n",
    "        self._canvas.fill()\n",
    "        \n",
    "    def stroke(self):\n",
    "        self._canvas.stroke()\n",
    "        \n",
    "    # Не учитывает угол, т.е. использование метода rotate(delta)\n",
    "    # никак не повлияет на результат данного метода\n",
    "    def forward_by_coords(self, dx: int, dy: int):\n",
    "        self.last_x = self.last_x + dx\n",
    "        self.last_y = self.last_y + dy\n",
    "        \n",
    "        self._canvas.line_to(self.last_x, self.last_y)\n",
    "    \n",
    "    # Учитывает угол\n",
    "    def forward(self, length: float):\n",
    "        self.last_x = length * math.cos(math.radians(self.angle)) + self.last_x\n",
    "        self.last_y = length * math.sin(math.radians(self.angle)) + self.last_y\n",
    "\n",
    "        self._canvas.line_to(self.last_x, self.last_y)"
   ]
  },
  {
   "cell_type": "code",
   "execution_count": 4,
   "metadata": {},
   "outputs": [
    {
     "name": "stdout",
     "output_type": "stream",
     "text": [
      "  Глубина    Время генерации, сек\n",
      "---------  ----------------------\n",
      "        1                  0.0001\n",
      "        2                  0.0002\n",
      "        3                  0.0004\n",
      "        4                  0.0013\n",
      "        5                  0.0057\n",
      "        6                  0.0174\n",
      "        7                  0.0446\n",
      "        8                  0.1506\n",
      "        9                  0.6576\n",
      "       10                  2.6629\n",
      "\n",
      "Введите глубину фрактала: 5\n"
     ]
    },
    {
     "data": {
      "application/vnd.jupyter.widget-view+json": {
       "model_id": "1599ec83561143eebf659a3fe69874c3",
       "version_major": 2,
       "version_minor": 0
      },
      "text/plain": [
       "MultiCanvas(height=600, width=600)"
      ]
     },
     "metadata": {},
     "output_type": "display_data"
    }
   ],
   "source": [
    "# Кривая Коха\n",
    "# Настроаиваем холст для рисования\n",
    "canvas = MultiCanvas(2, width=WIDTH, height=HEIGHT)\n",
    "background = canvas[0]\n",
    "foreground = canvas[1]\n",
    "\n",
    "background.fill_style = 'black'\n",
    "background.fill_rect(0, 0, WIDTH, HEIGHT)\n",
    "\n",
    "# --------------------------------------------------\n",
    "turtle_graphics = TurtleGraphics(foreground)\n",
    "turtle_graphics.begin(25, HEIGHT / 2)\n",
    "\n",
    "def koch_curve(size: float, n: int):\n",
    "    if n == 0:\n",
    "        turtle_graphics.forward(size)\n",
    "    else:\n",
    "        koch_curve(size / 3, n - 1)\n",
    "        turtle_graphics.rotate(-60)\n",
    "        koch_curve(size / 3, n - 1)\n",
    "        turtle_graphics.rotate(120)\n",
    "        koch_curve(size / 3, n - 1)\n",
    "        turtle_graphics.rotate(-60)\n",
    "        koch_curve(size / 3, n - 1)\n",
    "        \n",
    "  \n",
    "# Замеры времени генерации\n",
    "table_data = []\n",
    "\n",
    "for i in range(1, 11):\n",
    "    start_time = t.now().timestamp()\n",
    "    \n",
    "    with hold_canvas(foreground):\n",
    "        koch_curve(550, i)\n",
    "        \n",
    "    genertion_time = \"{:.4f}\".format(t.now().timestamp() - start_time)\n",
    "    table_data.append([i, genertion_time])\n",
    "    \n",
    "\n",
    "print(tabulate(table_data, headers=['Глубина', 'Время генерации, сек']), end='\\n\\n')\n",
    "# --------------------------------------------------\n",
    "\n",
    "foreground.clear()\n",
    "turtle_graphics = TurtleGraphics(foreground)\n",
    "turtle_graphics.begin(25, HEIGHT / 2)\n",
    "depth = int(input('Введите глубину фрактала: '))\n",
    "\n",
    "foreground.stroke_style = 'white'\n",
    "\n",
    "with hold_canvas(foreground):\n",
    "    koch_curve(550, depth)\n",
    "    turtle_graphics.stroke()\n",
    "    \n",
    "canvas"
   ]
  },
  {
   "cell_type": "code",
   "execution_count": 5,
   "metadata": {},
   "outputs": [
    {
     "name": "stdout",
     "output_type": "stream",
     "text": [
      "  Глубина    Время генерации, сек\n",
      "---------  ----------------------\n",
      "        1                  0.0001\n",
      "        2                  0.0001\n",
      "        3                  0.0003\n",
      "        4                  0.0009\n",
      "        5                  0.0028\n",
      "        6                  0.0115\n",
      "        7                  0.0331\n",
      "        8                  0.0763\n",
      "        9                  0.3646\n",
      "       10                  1.6767\n",
      "       11                  6.4159\n",
      "\n",
      "Введите глубину фрактала: 5\n"
     ]
    },
    {
     "data": {
      "application/vnd.jupyter.widget-view+json": {
       "model_id": "ae6a6e499e654f64afa497c239489e0f",
       "version_major": 2,
       "version_minor": 0
      },
      "text/plain": [
       "MultiCanvas(height=600, width=600)"
      ]
     },
     "metadata": {},
     "output_type": "display_data"
    }
   ],
   "source": [
    "# Кривая Гильберта\n",
    "# Настроаиваем холст для рисования\n",
    "canvas = MultiCanvas(2, width=WIDTH, height=HEIGHT)\n",
    "background = canvas[0]\n",
    "foreground = canvas[1]\n",
    "\n",
    "background.fill_style = 'black'\n",
    "background.fill_rect(0, 0, WIDTH, HEIGHT)\n",
    "\n",
    "# --------------------------------------------------\n",
    "turtle_graphics = TurtleGraphics(foreground)\n",
    "turtle_graphics.begin(25, 25)\n",
    "\n",
    "def hilbert_curve(dx: int, dy: int, n: int):\n",
    "    if (n > 1):\n",
    "        hilbert_curve(dy, dx, n - 1)\n",
    "    \n",
    "    turtle_graphics.forward_by_coords(dx, dy)\n",
    "    \n",
    "    if (n > 1):\n",
    "        hilbert_curve(dx, dy, n - 1)\n",
    "    \n",
    "    turtle_graphics.forward_by_coords(dy, dx)\n",
    "    \n",
    "    if (n > 1):\n",
    "        hilbert_curve(dx, dy, n - 1)\n",
    "    \n",
    "    turtle_graphics.forward_by_coords(-dx, -dy)\n",
    "    \n",
    "    if (n > 1):\n",
    "        hilbert_curve(-dy, -dx, n - 1)\n",
    "        \n",
    "        \n",
    "# Замеры времени генерации\n",
    "table_data = []\n",
    "\n",
    "for i in range(1, 12):\n",
    "    start_time = t.now().timestamp()\n",
    "    \n",
    "    with hold_canvas(foreground):\n",
    "        hilbert_curve(15, 0, i)\n",
    "        \n",
    "    genertion_time = \"{:.4f}\".format(t.now().timestamp() - start_time)\n",
    "    table_data.append([i, genertion_time])\n",
    "    \n",
    "\n",
    "print(tabulate(table_data, headers=['Глубина', 'Время генерации, сек']), end='\\n\\n')\n",
    "# --------------------------------------------------\n",
    "\n",
    "foreground.clear()  \n",
    "turtle_graphics = TurtleGraphics(foreground)\n",
    "turtle_graphics.begin(25, 25)\n",
    "depth = int(input('Введите глубину фрактала: '))\n",
    "\n",
    "foreground.stroke_style = 'white'\n",
    "\n",
    "with hold_canvas(foreground):\n",
    "    hilbert_curve(15, 0, depth)\n",
    "    turtle_graphics.stroke()\n",
    "    \n",
    "canvas"
   ]
  },
  {
   "cell_type": "code",
   "execution_count": 6,
   "metadata": {},
   "outputs": [
    {
     "name": "stdout",
     "output_type": "stream",
     "text": [
      "  Глубина    Время генерации, сек\n",
      "---------  ----------------------\n",
      "        1                  0.0002\n",
      "        2                  0.0004\n",
      "        3                  0.0013\n",
      "        4                  0.0049\n",
      "        5                  0.0176\n",
      "        6                  0.046\n",
      "        7                  0.1303\n",
      "        8                  0.6435\n",
      "        9                  2.6287\n",
      "\n",
      "Введите глубину фрактала: 4\n"
     ]
    },
    {
     "data": {
      "application/vnd.jupyter.widget-view+json": {
       "model_id": "61a0d6645f5f4cb6b5e84f83a322dfa9",
       "version_major": 2,
       "version_minor": 0
      },
      "text/plain": [
       "MultiCanvas(height=600, width=600)"
      ]
     },
     "metadata": {},
     "output_type": "display_data"
    }
   ],
   "source": [
    "# Кривая Серпинского\n",
    "# Настроаиваем холст для рисования\n",
    "canvas = MultiCanvas(2, width=WIDTH, height=HEIGHT)\n",
    "background = canvas[0]\n",
    "foreground = canvas[1]\n",
    "\n",
    "background.fill_style = 'black'\n",
    "background.fill_rect(0, 0, WIDTH, HEIGHT)\n",
    "\n",
    "# --------------------------------------------------\n",
    "turtle_graphics = TurtleGraphics(foreground)\n",
    "turtle_graphics.begin(25, HEIGHT - 50)\n",
    "turtle_graphics.rotate(-45) \n",
    "\n",
    "def half_sierpinski_curve(size: float, n: int):\n",
    "    if n == 0:\n",
    "        turtle_graphics.forward(size)\n",
    "    else:\n",
    "        half_sierpinski_curve(size, n - 1)\n",
    "        turtle_graphics.rotate(-45)\n",
    "        turtle_graphics.forward(size * math.sqrt(2))\n",
    "        turtle_graphics.rotate(-45)\n",
    "        half_sierpinski_curve(size, n - 1)\n",
    "        turtle_graphics.rotate(90)\n",
    "        turtle_graphics.forward(size)\n",
    "        turtle_graphics.rotate(90)\n",
    "        half_sierpinski_curve(size, n - 1)\n",
    "        turtle_graphics.rotate(-45)\n",
    "        turtle_graphics.forward(size * math.sqrt(2))\n",
    "        turtle_graphics.rotate(-45)\n",
    "        half_sierpinski_curve(size, n - 1)\n",
    "        \n",
    "\n",
    "def sierpinski_curve(size: float, n: int):\n",
    "    half_sierpinski_curve(size, n)\n",
    "    turtle_graphics.rotate(90)\n",
    "    turtle_graphics.forward(size)\n",
    "    turtle_graphics.rotate(90)\n",
    "    half_sierpinski_curve(size, n)\n",
    "    turtle_graphics.rotate(90)\n",
    "    turtle_graphics.forward(size)\n",
    "    turtle_graphics.rotate(90)\n",
    "    \n",
    "\n",
    "# Замеры времени генерации\n",
    "table_data = []\n",
    "\n",
    "for i in range(1, 10):\n",
    "    start_time = t.now().timestamp()\n",
    "    \n",
    "    with hold_canvas(foreground):\n",
    "        sierpinski_curve(10, i)\n",
    "        \n",
    "    genertion_time = \"{:.4f}\".format(t.now().timestamp() - start_time)\n",
    "    table_data.append([i, genertion_time])\n",
    "    \n",
    "\n",
    "print(tabulate(table_data, headers=['Глубина', 'Время генерации, сек']), end='\\n\\n')\n",
    "# --------------------------------------------------\n",
    "\n",
    "foreground.clear()  \n",
    "turtle_graphics = TurtleGraphics(foreground)\n",
    "turtle_graphics.begin(25, HEIGHT - 50)\n",
    "turtle_graphics.rotate(-45)   \n",
    "depth = int(input('Введите глубину фрактала: '))\n",
    "\n",
    "foreground.stroke_style = 'white'\n",
    "\n",
    "with hold_canvas(foreground):\n",
    "    sierpinski_curve(10, depth)\n",
    "    turtle_graphics.stroke()\n",
    "    \n",
    "canvas"
   ]
  },
  {
   "cell_type": "code",
   "execution_count": 7,
   "metadata": {},
   "outputs": [
    {
     "name": "stdout",
     "output_type": "stream",
     "text": [
      "  Глубина    Время генерации, сек\n",
      "---------  ----------------------\n",
      "        1                  0.0002\n",
      "        2                  0.0002\n",
      "        3                  0.0003\n",
      "        4                  0.0006\n",
      "        5                  0.0038\n",
      "        6                  0.006\n",
      "        7                  0.0169\n",
      "        8                  0.0309\n",
      "        9                  0.0634\n",
      "       10                  0.179\n",
      "       11                  0.695\n",
      "\n",
      "Введите глубину фрактала: 10\n"
     ]
    },
    {
     "data": {
      "application/vnd.jupyter.widget-view+json": {
       "model_id": "1471d4656f2f44fab1874e478e0ef72a",
       "version_major": 2,
       "version_minor": 0
      },
      "text/plain": [
       "MultiCanvas(height=600, width=600)"
      ]
     },
     "metadata": {},
     "output_type": "display_data"
    }
   ],
   "source": [
    "# Салфетка Серпинского\n",
    "# Настроаиваем холст для рисования\n",
    "canvas = MultiCanvas(2, width=WIDTH, height=HEIGHT)\n",
    "background = canvas[0]\n",
    "foreground = canvas[1]\n",
    "\n",
    "background.fill_style = 'black'\n",
    "background.fill_rect(0, 0, WIDTH, HEIGHT)\n",
    "\n",
    "# --------------------------------------------------\n",
    "turtle_graphics = TurtleGraphics(foreground)\n",
    "\n",
    "def fill_triangle(x: int, y: int, size: float):\n",
    "    turtle_graphics.begin(x, y)\n",
    "    turtle_graphics.rotate(-60)\n",
    "    turtle_graphics.forward(size)\n",
    "    turtle_graphics.rotate(120)\n",
    "    turtle_graphics.forward(size)\n",
    "    turtle_graphics.rotate(120)\n",
    "    turtle_graphics.forward(size)\n",
    "    turtle_graphics.rotate(180)\n",
    "    turtle_graphics.fill()\n",
    "    \n",
    "    \n",
    "def sierpinski_triangle(x: int, y: int, size: float, n: int):\n",
    "    if n == 1:\n",
    "        fill_triangle(x, y, size)\n",
    "    else:\n",
    "        sierpinski_triangle(x, y, size / 2, n - 1)\n",
    "        sierpinski_triangle(x + size / 4, y - (size / 2 * math.sqrt(3) / 2), size / 2, n - 1)\n",
    "        sierpinski_triangle(x + size / 2, y, size / 2, n - 1)\n",
    "\n",
    "\n",
    "# Замеры времени генерации\n",
    "table_data = []\n",
    "\n",
    "for i in range(1, 12):\n",
    "    start_time = t.now().timestamp()\n",
    "    \n",
    "    with hold_canvas(foreground):\n",
    "        sierpinski_triangle(0, 0, 500, i)\n",
    "        \n",
    "    genertion_time = \"{:.4f}\".format(t.now().timestamp() - start_time)\n",
    "    table_data.append([i, genertion_time])\n",
    "    \n",
    "\n",
    "print(tabulate(table_data, headers=['Глубина', 'Время генерации, сек']), end='\\n\\n')\n",
    "# --------------------------------------------------\n",
    "        \n",
    "foreground.clear()\n",
    "depth = int(input('Введите глубину фрактала: '))\n",
    "foreground.fill_style = 'white'\n",
    "\n",
    "with hold_canvas(foreground):\n",
    "    sierpinski_triangle(WIDTH / 2 - 250, HEIGHT / 2 + 250, 500, depth)\n",
    "\n",
    "canvas"
   ]
  },
  {
   "cell_type": "code",
   "execution_count": 8,
   "metadata": {},
   "outputs": [
    {
     "name": "stdout",
     "output_type": "stream",
     "text": [
      "  Глубина    Время генерации, сек\n",
      "---------  ----------------------\n",
      "        1                  0.0003\n",
      "        2                  0.0006\n",
      "        3                  0.0034\n",
      "        4                  0.006\n",
      "        5                  0.0702\n",
      "        6                  0.4569\n",
      "        7                  3.6982\n",
      "\n",
      "Введите глубину фрактала: 6\n"
     ]
    },
    {
     "data": {
      "application/vnd.jupyter.widget-view+json": {
       "model_id": "e9dc43bb3d144f6b85d36e5189212842",
       "version_major": 2,
       "version_minor": 0
      },
      "text/plain": [
       "MultiCanvas(height=600, width=600)"
      ]
     },
     "metadata": {},
     "output_type": "display_data"
    }
   ],
   "source": [
    "# Ковёр Серпинского\n",
    "# Настроаиваем холст для рисования\n",
    "canvas = MultiCanvas(2, width=WIDTH, height=HEIGHT)\n",
    "background = canvas[0]\n",
    "foreground = canvas[1]\n",
    "\n",
    "background.fill_style = 'black'\n",
    "background.fill_rect(0, 0, WIDTH, HEIGHT)\n",
    "\n",
    "# --------------------------------------------------\n",
    "turtle_graphics = TurtleGraphics(foreground)\n",
    "\n",
    "def fill_square(x: int, y: int, size: float):\n",
    "    turtle_graphics.begin(x,y)\n",
    "    turtle_graphics.forward(size)\n",
    "    turtle_graphics.rotate(90)\n",
    "    turtle_graphics.forward(size)\n",
    "    turtle_graphics.rotate(90)\n",
    "    turtle_graphics.forward(size)\n",
    "    turtle_graphics.rotate(90)\n",
    "    turtle_graphics.forward(size)\n",
    "    turtle_graphics.rotate(90)\n",
    "    turtle_graphics.fill()\n",
    "    \n",
    "def sierpinski_square(x: int, y: int, size: float, n: int):\n",
    "    if n == 1:\n",
    "        fill_square(x, y, size)\n",
    "    else:\n",
    "        new_size = size / 3\n",
    "        sierpinski_square(x, y, new_size + 1, n - 1)\n",
    "        sierpinski_square(x + new_size, y, new_size + 1, n - 1)\n",
    "        sierpinski_square(x + new_size * 2, y, new_size + 1, n - 1)\n",
    "        sierpinski_square(x, y + new_size, new_size + 1, n - 1)\n",
    "        sierpinski_square(x + new_size * 2, y + new_size, new_size + 1, n - 1)\n",
    "        sierpinski_square(x, y + new_size * 2, new_size + 1, n - 1)\n",
    "        sierpinski_square(x + new_size, y + new_size * 2, new_size + 1, n - 1)\n",
    "        sierpinski_square(x + new_size * 2, y + new_size * 2, new_size + 1, n - 1)\n",
    "        \n",
    "        \n",
    "# Замеры времени генерации\n",
    "table_data = []\n",
    "\n",
    "for i in range(1, 8):\n",
    "    start_time = t.now().timestamp()\n",
    "    \n",
    "    with hold_canvas(foreground):\n",
    "        sierpinski_square(0, 0, 500, i)\n",
    "        \n",
    "    genertion_time = \"{:.4f}\".format(t.now().timestamp() - start_time)\n",
    "    table_data.append([i, genertion_time])\n",
    "    \n",
    "\n",
    "print(tabulate(table_data, headers=['Глубина', 'Время генерации, сек']), end='\\n\\n')\n",
    "# --------------------------------------------------\n",
    "        \n",
    "foreground.clear()   \n",
    "depth = int(input('Введите глубину фрактала: '))\n",
    "foreground.fill_style = 'white'\n",
    "\n",
    "with hold_canvas(foreground):\n",
    "    sierpinski_square(WIDTH / 2 - 250, HEIGHT / 2 - 250, 500, depth)\n",
    "\n",
    "canvas"
   ]
  },
  {
   "cell_type": "code",
   "execution_count": 9,
   "metadata": {},
   "outputs": [
    {
     "name": "stdout",
     "output_type": "stream",
     "text": [
      "  Глубина    Время генерации, сек\n",
      "---------  ----------------------\n",
      "        1                  0.0001\n",
      "        2                  0.0002\n",
      "        3                  0.0002\n",
      "        4                  0.0003\n",
      "        5                  0.0006\n",
      "        6                  0.0023\n",
      "        7                  0.003\n",
      "        8                  0.0047\n",
      "        9                  0.0089\n",
      "       10                  0.0172\n",
      "       11                  0.0224\n",
      "       12                  0.0327\n",
      "       13                  0.0644\n",
      "       14                  0.1492\n",
      "       15                  0.3494\n",
      "       16                  0.7924\n",
      "       17                  1.3761\n",
      "       18                  2.8784\n",
      "       19                  5.5568\n",
      "\n",
      "Введите глубину фрактала: 10\n"
     ]
    },
    {
     "data": {
      "application/vnd.jupyter.widget-view+json": {
       "model_id": "df65d09b5a2e4717912ec648cc6bb79a",
       "version_major": 2,
       "version_minor": 0
      },
      "text/plain": [
       "MultiCanvas(height=600, width=600)"
      ]
     },
     "metadata": {},
     "output_type": "display_data"
    }
   ],
   "source": [
    "# Дерево Пифгора\n",
    "# Настроаиваем холст для рисования\n",
    "canvas = MultiCanvas(2, width=WIDTH, height=HEIGHT)\n",
    "background = canvas[0]\n",
    "foreground = canvas[1]\n",
    "\n",
    "background.fill_style = 'black'\n",
    "background.fill_rect(0, 0, WIDTH, HEIGHT)\n",
    "\n",
    "# --------------------------------------------------\n",
    "\n",
    "# ax, ay - координата первого угла четырёхугольника\n",
    "# bx, by - координата второго угла четырёхугольника\n",
    "# vx, vy - вектор, направленный на противоположную от ab сторону\n",
    "def fill_rect(ax: int, ay: int, bx: int, by: int, vx: int, vy: int):\n",
    "    foreground.begin_path()\n",
    "    foreground.move_to(ax, ay)\n",
    "    foreground.line_to(ax + vx, ay + vy)\n",
    "    foreground.line_to(bx + vx, by + vy)\n",
    "    foreground.line_to(bx, by)\n",
    "    foreground.close_path()\n",
    "    foreground.fill()\n",
    "    \n",
    "\n",
    "def pythagorean_tree(ax: int, ay: int, bx: int, by: int, vx: int, vy: int, n: int):\n",
    "    if n > 0:\n",
    "        fill_rect(ax, ay, bx, by, vx, vy)\n",
    "    if n > 1:\n",
    "        # px, py - вектор из точки a в противоположный угол квадрата\n",
    "        px = (bx + vx) - ax\n",
    "        py = (by + vy) - ay\n",
    "        \n",
    "        # qx, qy - вектор из точки b в противоположный угол квадрата\n",
    "        qx = (ax + vx) - bx\n",
    "        qy = (ay + vy) - by\n",
    "        \n",
    "        mx = px / 2\n",
    "        my = py / 2\n",
    "        \n",
    "        kx = qx / 2\n",
    "        ky = qy / 2\n",
    "        \n",
    "        pythagorean_tree(ax + vx, ay + vy, ax + vx + mx, ay + vy + my, kx, ky, n - 1)\n",
    "        pythagorean_tree(bx + vx, by + vy, bx + vx + kx, by + vy + ky, mx, my, n - 1)\n",
    "        \n",
    "\n",
    "# Замеры времени генерации\n",
    "table_data = []\n",
    "\n",
    "for i in range(1, 20):\n",
    "    start_time = t.now().timestamp()\n",
    "    \n",
    "    with hold_canvas(foreground):\n",
    "        pythagorean_tree(0, 0, 50, 0, 0, 50, i)\n",
    "        \n",
    "    genertion_time = \"{:.4f}\".format(t.now().timestamp() - start_time)\n",
    "    table_data.append([i, genertion_time])\n",
    "    \n",
    "\n",
    "print(tabulate(table_data, headers=['Глубина', 'Время генерации, сек']), end='\\n\\n')\n",
    "# --------------------------------------------------\n",
    "        \n",
    "foreground.clear()\n",
    "depth = int(input('Введите глубину фрактала: '))\n",
    "foreground.fill_style = 'white'\n",
    "\n",
    "with hold_canvas(foreground):\n",
    "    pythagorean_tree(WIDTH / 2 - 25, HEIGHT - 50, WIDTH / 2 + 25, HEIGHT - 50, 0, -50, depth)    \n",
    "\n",
    "canvas"
   ]
  },
  {
   "cell_type": "markdown",
   "metadata": {
    "id": "diOb-K7LnO5a"
   },
   "source": [
    "### Вывод"
   ]
  },
  {
   "cell_type": "markdown",
   "metadata": {},
   "source": [
    "В ходе проделанной лабораторной работы можно сделать вывод о том, что генерацию фракталов можно достаточно просто реализовывать через рекурсивные функции, ибо по своей природе фракталы - рекурсивные структуры. Но всё же нужно учитывать, что глубина фрактала при таком подходе будет достаточно мала, так как от компьютера требуются достаточно большие вычислительные мощности."
   ]
  }
 ],
 "metadata": {
  "colab": {
   "collapsed_sections": [],
   "name": "Lab5.ipynb",
   "provenance": []
  },
  "kernelspec": {
   "display_name": "Python 3 (ipykernel)",
   "language": "python",
   "name": "python3"
  },
  "language_info": {
   "codemirror_mode": {
    "name": "ipython",
    "version": 3
   },
   "file_extension": ".py",
   "mimetype": "text/x-python",
   "name": "python",
   "nbconvert_exporter": "python",
   "pygments_lexer": "ipython3",
   "version": "3.10.2"
  }
 },
 "nbformat": 4,
 "nbformat_minor": 1
}
