{
 "cells": [
  {
   "cell_type": "markdown",
   "id": "402fa8a2",
   "metadata": {},
   "source": [
    "Массив A состоит из целых положительных чисел длин отрезков. Составьте из трех отрезков такой треугольник, чтобы его периметр был максимально возможным. Если невозможно составить треугольник с положительной площадью функция возвращает 0."
   ]
  },
  {
   "cell_type": "code",
   "execution_count": 3,
   "id": "12ee5ec7",
   "metadata": {},
   "outputs": [],
   "source": [
    "import random"
   ]
  },
  {
   "cell_type": "code",
   "execution_count": 7,
   "id": "af64b153",
   "metadata": {},
   "outputs": [
    {
     "name": "stdout",
     "output_type": "stream",
     "text": [
      "[13, 6, 18, 17, 16, 5, 18, 7, 8, 20, 16, 10, 20, 11, 6, 10, 10, 13, 16, 18]\n",
      "58\n"
     ]
    }
   ],
   "source": [
    "def get_max_perimeter(values: list[int]) -> int:\n",
    "    length = len(values)\n",
    "\n",
    "    if (length < 3):\n",
    "        return 0\n",
    "    \n",
    "    values.sort(reverse=True)\n",
    "\n",
    "    for i in range(0, len(values) - 2):\n",
    "        first = values[i]\n",
    "        second = values[i + 1]\n",
    "        third = values[i + 2]\n",
    "        if (second + third > first):\n",
    "            return first + second + third\n",
    "    \n",
    "    return 0\n",
    "\n",
    "N = 20\n",
    "MIN_VAL = 3\n",
    "MAX_VAL = 20\n",
    "\n",
    "A = [random.randint(MIN_VAL, MAX_VAL) for _ in range(N)]\n",
    "\n",
    "print(A)\n",
    "\n",
    "print(get_max_perimeter(A))\n",
    "\n"
   ]
  },
  {
   "cell_type": "markdown",
   "id": "3dac639a",
   "metadata": {},
   "source": [
    "Дан массив неотрицательных целых чисел nums. Расположите их в таком порядке, чтобы вместе они образовали максимально возможное число. Замечание: Результат может быть очень большим числом, поэтому представьте его как string, а не integer."
   ]
  },
  {
   "cell_type": "code",
   "execution_count": 5,
   "id": "b86cd41b",
   "metadata": {},
   "outputs": [
    {
     "name": "stdout",
     "output_type": "stream",
     "text": [
      "[12, 7, 17, 9, 8, 16, 3, 7, 3, 19, 7, 4, 11, 11, 11, 13, 8, 18, 5, 17]\n",
      "988777543319181717161312111111\n"
     ]
    }
   ],
   "source": [
    "class Comparator(tuple):\n",
    "    def __lt__(self, other):\n",
    "        return self + other > other + self\n",
    "\n",
    "def get_biggest(values: list):\n",
    "    string_values = [str(x) for x in values]\n",
    "    return ''.join(sorted(string_values, key=Comparator))\n",
    "\n",
    "N = 20\n",
    "MIN_VAL = 3\n",
    "MAX_VAL = 20\n",
    "\n",
    "A = [random.randint(MIN_VAL, MAX_VAL) for _ in range(N)]\n",
    "\n",
    "print(A)\n",
    "print(get_biggest(A))"
   ]
  },
  {
   "cell_type": "markdown",
   "id": "d00c4b24",
   "metadata": {},
   "source": [
    "Дана матрица mat размером m * n, значения целочисленные. Напишите функцию, сортирующую каждую диагональ матрицы по возрастанию и возвращающую получившуюся матрицу.\n",
    "<span style=\"color:red\">Не очень ясно, что в прямоугольной матрице является главной и побочной диагональю, а также не понятно, как мы можем отсортировать диагонали матриц, которые пересекаются на некотором элементе (в таком случае возможно, что для одной из диагоналей сортировка не отработает корректно)</span>."
   ]
  },
  {
   "cell_type": "code",
   "execution_count": 10,
   "id": "1f49af6b",
   "metadata": {},
   "outputs": [
    {
     "name": "stdout",
     "output_type": "stream",
     "text": [
      "   9  14  13   5   3  16  18  17\n",
      "   8  14  18   4  19  18   7  13\n",
      "  13  20  17  13   9  18  19  10\n",
      "   8   5   8   6  12  14   5  14\n",
      "   5  14   4   6   6  11   8  13\n",
      "   5   8   7  16   4  11  15  19\n",
      "  14  15  16  10  19  15   8  18\n",
      "  16  10   4   7  10  17  14  11\n",
      "  14   5   4  11  13   5   4   9\n",
      "   7   6   6  15  15   5  18  20\n",
      "   5  14   7  11  12   3   7  16\n",
      "   4   5   5   3  17  15   6  17\n",
      "\n",
      "   6  14  13   5   3  16  18   6\n",
      "   8   6  18   4  19  18   7  13\n",
      "  13  20   8  13   9   7  19  10\n",
      "   8   5   8   9  12  14   5  14\n",
      "   5  14   4  15  11  11   8  13\n",
      "   5   8  16  16   4  11  15  19\n",
      "  14  17  16  10  19  15  14  18\n",
      "  18  10   4   7  10  17  14  17\n",
      "  14   5   4  11  13   5   4   9\n",
      "   7   6   6  15  15   5  18  20\n",
      "   5  14   7  11  12   3   7  16\n",
      "   4   5   5   3  17  15   6  17\n"
     ]
    }
   ],
   "source": [
    "def print_matrix(matrix: list[list[int]]):\n",
    "    print('\\n'.join([''.join(['{:4}'.format(item) for item in row]) for row in matrix]))\n",
    "    \n",
    "def sort_diagonals(a: list[list[int]]) -> list[list[int]]:\n",
    "    cols = len(a[0])\n",
    "    \n",
    "    for i in range(cols - 1):\n",
    "        for j in range(cols - i - 1):\n",
    "            # сортируем главную диагональ пузырьком\n",
    "            if a[j][j] > a[j + 1][j + 1]:\n",
    "                a[j][j], a[j + 1][j + 1] = a[j + 1][j + 1], a[j][j]\n",
    "                \n",
    "            # сортируем побочную диагональ пузырьком\n",
    "            curr_j = cols - j - 1\n",
    "            if a[j][curr_j] > a[j + 1][curr_j - 1]:\n",
    "                a[j][curr_j], a[j + 1][curr_j - 1] = a[j + 1][curr_j - 1], a[j][curr_j]\n",
    "    \n",
    "    return a\n",
    "\n",
    "    \n",
    "M = 12\n",
    "N = 8\n",
    "MIN_VAL = 3\n",
    "MAX_VAL = 20\n",
    "\n",
    "A = [[random.randint(MIN_VAL, MAX_VAL) for _ in range(N)] for _ in range(M)]\n",
    "\n",
    "print_matrix(A)\n",
    "print()\n",
    "print_matrix(sort_diagonals(A))"
   ]
  }
 ],
 "metadata": {
  "kernelspec": {
   "display_name": "Python 3 (ipykernel)",
   "language": "python",
   "name": "python3"
  },
  "language_info": {
   "codemirror_mode": {
    "name": "ipython",
    "version": 3
   },
   "file_extension": ".py",
   "mimetype": "text/x-python",
   "name": "python",
   "nbconvert_exporter": "python",
   "pygments_lexer": "ipython3",
   "version": "3.10.2"
  }
 },
 "nbformat": 4,
 "nbformat_minor": 5
}
