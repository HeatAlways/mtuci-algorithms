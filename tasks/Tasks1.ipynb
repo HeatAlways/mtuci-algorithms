{
 "cells": [
  {
   "cell_type": "markdown",
   "id": "244314fb",
   "metadata": {},
   "source": [
    "# Задание 1"
   ]
  },
  {
   "cell_type": "markdown",
   "id": "64630386",
   "metadata": {},
   "source": [
    "Даны две строки: `s1` и `s2` с одинаковым размером.\n",
    "\n",
    "Проверьте, может ли некоторая перестановка строки `s1` “победить” некоторую перестановку строки `s2` или наоборот.\n",
    "\n",
    "Строка x может “победить” строку y (обе имеют размер n), если `x[i] >= y[i]` (в алфавитном порядке) для всех i от 0 до n-1.\n"
   ]
  },
  {
   "cell_type": "markdown",
   "id": "cf51dab2",
   "metadata": {},
   "source": [
    "## Ввод"
   ]
  },
  {
   "cell_type": "markdown",
   "id": "d697a747",
   "metadata": {},
   "source": [
    "`abc`\n",
    "`xya`"
   ]
  },
  {
   "cell_type": "markdown",
   "id": "50b10a2e",
   "metadata": {},
   "source": [
    "## Вывод"
   ]
  },
  {
   "cell_type": "markdown",
   "id": "55442a49",
   "metadata": {},
   "source": [
    "`True`\n",
    "\n",
    "### Исполняемый код записать в ячейку ниже:"
   ]
  },
  {
   "cell_type": "code",
   "execution_count": 18,
   "id": "3b0d440a",
   "metadata": {},
   "outputs": [
    {
     "name": "stdout",
     "output_type": "stream",
     "text": [
      "bcd\n",
      "efa\n",
      "False\n"
     ]
    }
   ],
   "source": [
    "# bcd, efa -> после портировки dcb, fea -> False\n",
    "# abc, abc -> True\n",
    "# abc, xya -> после сортировки cba, yxa -> True\n",
    "def can_beat(s1: str, s2: str) -> bool:\n",
    "    s1 = sorted(s1, reverse = True)\n",
    "    s2 = sorted(s2, reverse = True)\n",
    "    \n",
    "    if s2 > s1:\n",
    "        s1, s2 = s2, s1\n",
    "        \n",
    "    for i in range(len(s1)):\n",
    "        if s1[i] < s2[i]:\n",
    "            return False\n",
    "    \n",
    "    return True\n",
    "    \n",
    "s1 = input()\n",
    "s2 = input()\n",
    "\n",
    "print(can_beat(s1, s2))"
   ]
  },
  {
   "cell_type": "markdown",
   "id": "b3a969a6",
   "metadata": {},
   "source": [
    "# Задание 2"
   ]
  },
  {
   "cell_type": "markdown",
   "id": "9c1ce05d",
   "metadata": {},
   "source": [
    "Дана строка `s`, вернуть самую длинную полиндромную подстроку в `s`."
   ]
  },
  {
   "cell_type": "markdown",
   "id": "20415c0e",
   "metadata": {},
   "source": [
    "## Ввод"
   ]
  },
  {
   "cell_type": "markdown",
   "id": "e77fcb44",
   "metadata": {},
   "source": [
    "`babad`"
   ]
  },
  {
   "cell_type": "markdown",
   "id": "49996449",
   "metadata": {},
   "source": [
    "## Вывод"
   ]
  },
  {
   "cell_type": "markdown",
   "id": "75be2464",
   "metadata": {},
   "source": [
    "`aba` или `bab`"
   ]
  },
  {
   "cell_type": "markdown",
   "id": "12ef9771",
   "metadata": {},
   "source": [
    "## Исполняемый код записывать в ячейку ниже"
   ]
  },
  {
   "cell_type": "code",
   "execution_count": 69,
   "id": "3f06c4fc",
   "metadata": {},
   "outputs": [
    {
     "name": "stdout",
     "output_type": "stream",
     "text": [
      "bbabbab\n",
      "babbab\n"
     ]
    }
   ],
   "source": [
    "def longest_palindrome(s: str):\n",
    "    curr_len = len(s)\n",
    "    \n",
    "    while curr_len > 1:\n",
    "        for i in range(len(s) - curr_len + 1):\n",
    "            substr = s[i:i + curr_len]\n",
    "            if substr == substr[::-1]:\n",
    "                return substr\n",
    "        curr_len -= 1\n",
    "    \n",
    "    return s[0]\n",
    "\n",
    "s = input()\n",
    "\n",
    "print(longest_palindrome(s))"
   ]
  },
  {
   "cell_type": "markdown",
   "id": "5f54b630",
   "metadata": {},
   "source": [
    "# Задание 3"
   ]
  },
  {
   "cell_type": "markdown",
   "id": "566f1d3b",
   "metadata": {},
   "source": [
    "Вернуть количество отдельных непустых подстрок текста, которые могут быть записаны как конкатенация некоторой строки с самой собой (т.е. она может быть записана, как `a + a`, где `a` - некоторая строка)."
   ]
  },
  {
   "cell_type": "markdown",
   "id": "0f734fd8",
   "metadata": {},
   "source": [
    "## Ввод"
   ]
  },
  {
   "cell_type": "markdown",
   "id": "e0be5554",
   "metadata": {},
   "source": [
    "`aabb`"
   ]
  },
  {
   "cell_type": "markdown",
   "id": "ab8eda0b",
   "metadata": {},
   "source": [
    "## Вывод"
   ]
  },
  {
   "cell_type": "markdown",
   "id": "1d716d36",
   "metadata": {},
   "source": [
    "2"
   ]
  },
  {
   "cell_type": "markdown",
   "id": "fcd91349",
   "metadata": {},
   "source": [
    "## Исполняемый код записывать в ячейку ниже"
   ]
  },
  {
   "cell_type": "code",
   "execution_count": 81,
   "id": "be07379d",
   "metadata": {},
   "outputs": [
    {
     "name": "stdout",
     "output_type": "stream",
     "text": [
      "aaabbbaaabbb\n",
      "9\n"
     ]
    }
   ],
   "source": [
    "def parts_equals(a: str) -> bool:\n",
    "    if (len(a) % 2 != 0):\n",
    "        return False\n",
    "    \n",
    "    center_i = len(a) >> 1\n",
    "    \n",
    "    return a[0:center_i] == a[center_i:len(a)]\n",
    "\n",
    "def count_repeats(a: str) -> int:\n",
    "    part_len = 2\n",
    "    count = 0\n",
    "    while part_len <= len(a):\n",
    "        for i in range(len(a) - part_len + 1):\n",
    "            if parts_equals(a[i:i + part_len]):\n",
    "                count += 1\n",
    "        part_len += 2\n",
    "        \n",
    "    return count\n",
    "\n",
    "a = input()\n",
    "print(count_repeats(a))"
   ]
  },
  {
   "cell_type": "code",
   "execution_count": null,
   "id": "7c5a30a9",
   "metadata": {},
   "outputs": [],
   "source": []
  }
 ],
 "metadata": {
  "kernelspec": {
   "display_name": "Python 3 (ipykernel)",
   "language": "python",
   "name": "python3"
  },
  "language_info": {
   "codemirror_mode": {
    "name": "ipython",
    "version": 3
   },
   "file_extension": ".py",
   "mimetype": "text/x-python",
   "name": "python",
   "nbconvert_exporter": "python",
   "pygments_lexer": "ipython3",
   "version": "3.10.2"
  }
 },
 "nbformat": 4,
 "nbformat_minor": 5
}
