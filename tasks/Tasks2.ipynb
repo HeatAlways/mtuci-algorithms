{
 "cells": [
  {
   "cell_type": "markdown",
   "id": "402fa8a2",
   "metadata": {},
   "source": [
    "Массив A состоит из целых положительных чисел длин отрезков. Составьте из трех отрезков такой треугольник, чтобы его периметр был максимально возможным. Если невозможно составить треугольник с положительной площадью функция возвращает 0."
   ]
  },
  {
   "cell_type": "code",
   "execution_count": 2,
   "id": "12ee5ec7",
   "metadata": {},
   "outputs": [],
   "source": [
    "import random"
   ]
  },
  {
   "cell_type": "code",
   "execution_count": 3,
   "id": "af64b153",
   "metadata": {},
   "outputs": [
    {
     "name": "stdout",
     "output_type": "stream",
     "text": [
      "[4, 8, 19, 15, 7, 12, 14, 10, 15, 17, 14, 15, 11, 14, 8, 5, 17, 19, 20, 12]\n",
      "58\n"
     ]
    }
   ],
   "source": [
    "def get_max_perimeter(values: list[int]) -> int:\n",
    "    length = len(values)\n",
    "\n",
    "    if (length < 3):\n",
    "        return 0\n",
    "    \n",
    "    values.sort(reverse=True)\n",
    "\n",
    "    for i in range(0, len(values) - 2):\n",
    "        first = values[i]\n",
    "        second = values[i + 1]\n",
    "        third = values[i + 2]\n",
    "        if (second + third > first):\n",
    "            return first + second + third\n",
    "    \n",
    "    return 0\n",
    "\n",
    "N = 20\n",
    "MIN_VAL = 3\n",
    "MAX_VAL = 20\n",
    "\n",
    "A = [random.randint(MIN_VAL, MAX_VAL) for _ in range(N)]\n",
    "\n",
    "print(A)\n",
    "\n",
    "print(get_max_perimeter(A))\n",
    "\n"
   ]
  },
  {
   "cell_type": "markdown",
   "id": "3dac639a",
   "metadata": {},
   "source": [
    "Дан массив неотрицательных целых чисел nums. Расположите их в таком порядке, чтобы вместе они образовали максимально возможное число. Замечание: Результат может быть очень большим числом, поэтому представьте его как string, а не integer."
   ]
  },
  {
   "cell_type": "code",
   "execution_count": 4,
   "id": "b86cd41b",
   "metadata": {},
   "outputs": [
    {
     "name": "stdout",
     "output_type": "stream",
     "text": [
      "[10, 5, 5, 10, 3, 14, 17, 13, 3, 14, 20, 5, 17, 20, 16, 15, 18, 7, 18, 8]\n",
      "875553320201818171716151414131010\n"
     ]
    }
   ],
   "source": [
    "class Comparator(tuple):\n",
    "    def __lt__(self, other):\n",
    "        return self + other > other + self\n",
    "\n",
    "def get_biggest(values: list):\n",
    "    string_values = [str(x) for x in values]\n",
    "    return ''.join(sorted(string_values, key=Comparator))\n",
    "\n",
    "N = 20\n",
    "MIN_VAL = 3\n",
    "MAX_VAL = 20\n",
    "\n",
    "A = [random.randint(MIN_VAL, MAX_VAL) for _ in range(N)]\n",
    "\n",
    "print(A)\n",
    "print(get_biggest(A))"
   ]
  },
  {
   "cell_type": "markdown",
   "id": "d00c4b24",
   "metadata": {},
   "source": [
    "Дана матрица mat размером m * n, значения целочисленные. Напишите функцию, сортирующую каждую диагональ матрицы по возрастанию и возвращающую получившуюся матрицу.\n",
    "<span style=\"color:red\">Не очень ясно, что в прямоугольной матрице является главной и побочной диагональю, а также не понятно, как мы можем отсортировать диагонали матриц, которые пересекаются на некотором элементе (в таком случае возможно, что для одной из диагоналей сортировка не отработает корректно)</span>."
   ]
  },
  {
   "cell_type": "code",
   "execution_count": 38,
   "id": "1f49af6b",
   "metadata": {},
   "outputs": [
    {
     "name": "stdout",
     "output_type": "stream",
     "text": [
      "  10   7  18  13   3  18  15\n",
      "   6   3  19  18  14  18  15\n",
      "  11  12  16  12  18   6   6\n",
      "  10  10  13  13  16   8   3\n",
      "  17  10  17   7  11   3  13\n",
      "   3  19  12  17  16   4  13\n",
      "  16   3   9   3  13   8  19\n",
      "  12  18   8  11   8  13  18\n",
      "  10   3  19  15   8  18  15\n",
      "   8  15  14  19   6   9  11\n",
      "  20  19  11  15  12   8  20\n",
      "  20  20   3   3   9   7   4\n",
      "\n",
      "   3   7  18  13   3  18  11\n",
      "   6   4  19  18  14  13  15\n",
      "  11  12  10  12  15   6   6\n",
      "  10  10  13  16  16   8   3\n",
      "  17  10  16   7  18   3  13\n",
      "   3  17  12  17  16  18  13\n",
      "  19   3   9   3  13   8  19\n",
      "  12  18   8  11   8  13  18\n",
      "  10   3  19  15   8  18  15\n",
      "   8  15  14  19   6   9  11\n",
      "  20  19  11  15  12   8  20\n",
      "  20  20   3   3   9   7   4\n"
     ]
    }
   ],
   "source": [
    "def print_matrix(matrix: list[list[int]]):\n",
    "    print('\\n'.join([''.join(['{:4}'.format(item) for item in row]) for row in matrix]))\n",
    "    \n",
    "def sort_diagonals(a: list[list[int]]) -> list[list[int]]:\n",
    "    cols = len(a[0])\n",
    "    \n",
    "    for _ in range((cols >> 1) - 1):\n",
    "        for i in range(cols - 1):\n",
    "            for j in range(cols - i - 1):\n",
    "                # сортируем главную диагональ пузырьком\n",
    "                if a[j][j] > a[j + 1][j + 1]:\n",
    "                    a[j][j], a[j + 1][j + 1] = a[j + 1][j + 1], a[j][j]\n",
    "\n",
    "                # сортируем побочную диагональ пузырьком\n",
    "                curr_j = cols - j - 1\n",
    "                if a[j][curr_j] > a[j + 1][curr_j - 1]:\n",
    "                    a[j][curr_j], a[j + 1][curr_j - 1] = a[j + 1][curr_j - 1], a[j][curr_j]\n",
    "    \n",
    "    return a\n",
    "\n",
    "    \n",
    "M = 12\n",
    "N = 7\n",
    "MIN_VAL = 3\n",
    "MAX_VAL = 20\n",
    "\n",
    "A = [[random.randint(MIN_VAL, MAX_VAL) for _ in range(N)] for _ in range(M)]\n",
    "\n",
    "print_matrix(A)\n",
    "print()\n",
    "print_matrix(sort_diagonals(A))"
   ]
  }
 ],
 "metadata": {
  "kernelspec": {
   "display_name": "Python 3 (ipykernel)",
   "language": "python",
   "name": "python3"
  },
  "language_info": {
   "codemirror_mode": {
    "name": "ipython",
    "version": 3
   },
   "file_extension": ".py",
   "mimetype": "text/x-python",
   "name": "python",
   "nbconvert_exporter": "python",
   "pygments_lexer": "ipython3",
   "version": "3.10.2"
  }
 },
 "nbformat": 4,
 "nbformat_minor": 5
}
