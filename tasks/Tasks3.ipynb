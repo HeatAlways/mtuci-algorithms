{
 "cells": [
  {
   "cell_type": "markdown",
   "id": "fifteen-sailing",
   "metadata": {},
   "source": [
    "# Набор заданий №3\n",
    "\n",
    "### Задание 1\n",
    "В Тридевятом Царстве уже много лет как установилась конституционная монархия. В парламент Тридевятого царства входят 26 партий, обозначаемых строчными буквами английского алфавита от «a» до «z». Заседание парламента в соответствии с регламентом проходит по следующей схеме:\n",
    "- В начале заседания никаких законопроектов на повестке дня не стоит.\n",
    "- Любая партия (в том числе и та, которая внесла текущий законопроект) в любой момент времени может внести на обсуждение новый законопроект.\n",
    "- При вносе партией нового законопроекта обсуждение предыдущего приостанавливается и начинается обсуждение нового. После того, как парламентарии голосуют за новый законопроект, обсуждение законопроекта, прерванного им, продолжается.\n",
    "- Дискуссия по любому законопроекту обязана завершиться голосованием по этому законопроекту.\n",
    "- В конце заседания не должно остаться внесённых законопроектов, дискуссия по которым не завершена.\n",
    "\n",
    "Вам дана запись о событиях на сессии парламента. Каждое событие является либо внесением нового законопроекта, либо голосованием за какой-то законопроект, причём в обоих случаях известен номер партии, этот законопроект предложившей. События даны в том порядке, в котором они происходили. Проверьте, может ли данная запись о событиях соответствовать какому-либо заседанию, удовлетворяющему порядку проведения, описанному выше.\n",
    "#### Ввод\n",
    "Первая строка входных данных содержит одно целое число *K* – количество строк в записи сессии (1 ≤ *K* ≤ 1000). Каждая строка соответствует одному из двух событий:\n",
    "\n",
    "- Add *x* – партия x внесла на голосование законопроект.\n",
    "- Vote *x* – прошло голосование за документ, внесённый партией *x*.\n",
    "\n",
    "Здесь *x* – строчная буква английского алфавита от «a» до «z», задающая партию.\n",
    "#### Вывод\n",
    "Выведите «Yes», если существует корректный порядок проведения заседания, который мог привести к такой записи, и «No», если ни при каком корректном порядке проведения заседания данная запись появиться не могла."
   ]
  },
  {
   "cell_type": "code",
   "execution_count": 34,
   "id": "concerned-lewis",
   "metadata": {},
   "outputs": [
    {
     "name": "stdout",
     "output_type": "stream",
     "text": [
      "Кол-во событий: 8\n",
      "Событие (add x / vote x): add a\n",
      "Событие (add x / vote x): vote a\n",
      "Событие (add x / vote x): add b\n",
      "Событие (add x / vote x): add c\n",
      "Событие (add x / vote x): vote c\n",
      "Событие (add x / vote x): vote b\n",
      "Событие (add x / vote x): add b\n",
      "Событие (add x / vote x): vote b\n",
      "Yes\n"
     ]
    }
   ],
   "source": [
    "from collections import deque\n",
    "\n",
    "class Event:\n",
    "    def __init__(self, event: list[str]):\n",
    "        self.command = event[0]\n",
    "        self.party = event[1]\n",
    "        \n",
    "    def is_add(self) -> bool:\n",
    "        return self.command == 'add'\n",
    "    \n",
    "    def is_correct(self) -> bool:\n",
    "        if self.command.lower() != 'add' and self.command.lower() != 'vote':\n",
    "            return False\n",
    "        \n",
    "        if len(self.party) != 1 or ord(self.party) not in range(97, 123):\n",
    "            return False\n",
    "        \n",
    "        return True\n",
    "        \n",
    "    def __str__(self) -> str:\n",
    "        return f'{self.command} {self.party}'\n",
    "    \n",
    "    def __repr__(self) -> str:\n",
    "        return f'{self.command} {self.party}'\n",
    "\n",
    "k = int(input('Кол-во событий: '))\n",
    "events = deque()\n",
    "success = True\n",
    "\n",
    "for i in range(k):\n",
    "    event = Event(input('Событие (add x / vote x): ').split())\n",
    "    \n",
    "    if not event.is_correct():\n",
    "        success = False\n",
    "    \n",
    "    if success:\n",
    "        if event.is_add():\n",
    "            events.append(event)\n",
    "        else:\n",
    "            prev_event = events.pop()\n",
    "            if not prev_event.is_add() or prev_event.party != event.party:\n",
    "                success = False\n",
    "    \n",
    "print('Yes' if success and len(events) == 0 else 'No')"
   ]
  },
  {
   "cell_type": "markdown",
   "id": "controversial-location",
   "metadata": {},
   "source": [
    "### Задача 2. Правильный подмногоугольник\n",
    "\n",
    "Задан правильный *N*-угольник. Требуется выбрать наименьшее количество его вершин, которые также образуют правильный многоугольник.\n",
    "\n",
    "#### Входные данные\n",
    "\n",
    "Входные данные содержат одно целое число *N* (3 ≤ *N* ≤ 1012).\n",
    "\n",
    "#### Вывод\n",
    "\n",
    "Выведите одно число — наименьшее количество вершин заданного многоугольника, которые образуют правильный многоугольник."
   ]
  },
  {
   "cell_type": "code",
   "execution_count": 38,
   "id": "coated-highway",
   "metadata": {},
   "outputs": [
    {
     "name": "stdout",
     "output_type": "stream",
     "text": [
      "3\n",
      "3\n",
      "3\n",
      "3\n",
      "4\n",
      "4\n"
     ]
    }
   ],
   "source": [
    "def min_regular_polygon(n: int) -> int:\n",
    "    for i in range(3, (n >> 1) + 1):\n",
    "        if n % i == 0:\n",
    "            return i\n",
    "        \n",
    "    return n\n",
    "\n",
    "print(min_regular_polygon(3))\n",
    "print(min_regular_polygon(6))\n",
    "print(min_regular_polygon(9))\n",
    "print(min_regular_polygon(12))\n",
    "print(min_regular_polygon(52))\n",
    "print(min_regular_polygon(32))"
   ]
  },
  {
   "cell_type": "markdown",
   "id": "cordless-fundamentals",
   "metadata": {},
   "source": [
    "### Задача 3.\n",
    "\n",
    "На форуме, на котором обсуждаются задачи олимпиад по информатике, ввели следующий аналог капчи. Участнику выдаётся строка из *N* десятичных цифр (без ведущих нулей). В качестве ответа требуется ввести такое основание системы счисления *B*, что в этой системе счисления выданная запись будет соответствовать составному числу (назовем его *D*), а также число *X*, большее 1 и меньшее *D*, являющееся делителем *D*.\n",
    "\n",
    "При этом *B* и *X* не должны превосходить 10^9.\n",
    "\n",
    "По заданной строке десятичных цифр найдите любую пару чисел *B* и *X*, удовлетворяющую ограничениям, или ответьте, что решения в заданных ограничениях не существует.\n",
    "\n",
    "#### Входные данные\n",
    "\n",
    "Входные данные состоят из непустой строки длиной до 3 ⋅ 106 символов, составленной из цифр от 0 до 9 и не начинающейся с 0.\n",
    "\n",
    "#### Вывод\n",
    "\n",
    "Если решение существует, выведите два числа – основание системы счисления *B* и делитель *X*, записанные в десятичной системе счисления. Оба числа должны удовлетворять ограничениям 2 ≤ *B*, *X* ≤ 10^9. Если решения не существует, выведите –1."
   ]
  },
  {
   "cell_type": "code",
   "execution_count": 112,
   "id": "jewish-rocket",
   "metadata": {
    "scrolled": true
   },
   "outputs": [
    {
     "name": "stdout",
     "output_type": "stream",
     "text": [
      "10 1539443886618188562837236023124586800947380284852046645610883723599137853467754704101\n"
     ]
    }
   ],
   "source": [
    "class CaptchaResolver:  \n",
    "    __limit = pow(10, 9)\n",
    "    \n",
    "    def resolve(self, num: str) -> str:\n",
    "        limit = self.__limit\n",
    "        min_system = self.__find_biggest_digit(num) + 1\n",
    "        \n",
    "        if len(num) == 1:\n",
    "            limit = min_system\n",
    "        \n",
    "        for system in range(min_system, limit + 1):\n",
    "            decimal = self.__to_decimal(num, system)\n",
    "            divider = self.__find_divider(decimal)\n",
    "            \n",
    "            if (divider != -1):\n",
    "                return f'{system} {divider}'\n",
    "            \n",
    "        return '-1'\n",
    "            \n",
    "            \n",
    "    def __find_divider(self, num: int) -> int:\n",
    "        src_num = num\n",
    "        for i in range(2, 10):\n",
    "            while num % i == 0 and num != i:\n",
    "                num = num // i\n",
    "                \n",
    "        return num if num != src_num else -1\n",
    "    \n",
    "    def __find_biggest_digit(self, num: str) -> int:\n",
    "        biggest = 1\n",
    "        for c in num:\n",
    "            digit = int(c)\n",
    "            \n",
    "            if digit > biggest:\n",
    "                biggest = digit\n",
    "            \n",
    "            if biggest == 9:\n",
    "                return biggest\n",
    "\n",
    "        return biggest\n",
    "\n",
    "    def __to_decimal(self, num: str, system: int) -> int:\n",
    "        result = 0\n",
    "        N = len(num)\n",
    "\n",
    "        for i in range(N):\n",
    "            digit = int(num[i])\n",
    "            power = N - 1 - i\n",
    "            result += digit * pow(system, power)\n",
    "\n",
    "        return result\n",
    "\n",
    "resolver = CaptchaResolver()\n",
    "print(resolver.resolve('96984964856945879458745869456848968459684957945678938673485674586745684768468546358363'))"
   ]
  },
  {
   "cell_type": "code",
   "execution_count": null,
   "id": "06914bf0",
   "metadata": {},
   "outputs": [],
   "source": []
  }
 ],
 "metadata": {
  "kernelspec": {
   "display_name": "Python 3 (ipykernel)",
   "language": "python",
   "name": "python3"
  },
  "language_info": {
   "codemirror_mode": {
    "name": "ipython",
    "version": 3
   },
   "file_extension": ".py",
   "mimetype": "text/x-python",
   "name": "python",
   "nbconvert_exporter": "python",
   "pygments_lexer": "ipython3",
   "version": "3.10.2"
  }
 },
 "nbformat": 4,
 "nbformat_minor": 5
}
