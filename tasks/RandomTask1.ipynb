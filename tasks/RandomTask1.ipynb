{
 "cells": [
  {
   "cell_type": "code",
   "execution_count": null,
   "id": "602922a4",
   "metadata": {},
   "outputs": [],
   "source": [
    "def encrypt(num: int):\n",
    "    stack = []\n",
    "    result = ''\n",
    "\n",
    "    stack.append(('#', 1))\n",
    "    stack.append(('%', 5))\n",
    "    stack.append(('&', 10))\n",
    "    stack.append(('*', 100))\n",
    "    stack.append(('^', 1000))\n",
    "\n",
    "    while num > 0 and len(stack) > 0:\n",
    "        key = stack.pop()\n",
    "\n",
    "        while num - key[1] >= 0:\n",
    "            num -= key[1]\n",
    "            result += key[0]\n",
    "\n",
    "    return result\n",
    "\n",
    "\n",
    "def test(message: int, result: str):\n",
    "    assert encrypt(message) == result\n",
    "\n",
    "\n",
    "test(115, '*&%')\n",
    "test(9, '%####')\n",
    "test(1000, '^')"
   ]
  }
 ],
 "metadata": {
  "kernelspec": {
   "display_name": "Python 3 (ipykernel)",
   "language": "python",
   "name": "python3"
  },
  "language_info": {
   "codemirror_mode": {
    "name": "ipython",
    "version": 3
   },
   "file_extension": ".py",
   "mimetype": "text/x-python",
   "name": "python",
   "nbconvert_exporter": "python",
   "pygments_lexer": "ipython3",
   "version": "3.10.2"
  }
 },
 "nbformat": 4,
 "nbformat_minor": 5
}
