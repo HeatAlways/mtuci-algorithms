{
 "cells": [
  {
   "cell_type": "markdown",
   "id": "fifteen-sailing",
   "metadata": {},
   "source": [
    "# Лабораторная работа №2\n",
    "## Выполнил студент группы БВТ2004 Казыханов Рамиль Ильясович"
   ]
  },
  {
   "cell_type": "markdown",
   "id": "particular-syndicate",
   "metadata": {},
   "source": [
    "### Оглавление\n",
    "1. [Задание 1](#Задание-№1)\n",
    "2. [Задание 2](#Задание-№2)\n",
    "3. [Задание 3](#Задание-№3)"
   ]
  },
  {
   "cell_type": "markdown",
   "id": "arctic-stocks",
   "metadata": {},
   "source": [
    "### Задание №1\n",
    "Реализовать методы поиска в соответствии с заданием. Организовать генерацию начального набора случайных данных. Для всех вариантов добавить реализацию добавления, поиска и удаления элементов. Оценить время работы каждого алгоритма поиска и сравнить его со временем работы стандартной функции поиска, используемой в выбранном языке программирования."
   ]
  },
  {
   "cell_type": "code",
   "execution_count": 83,
   "id": "d96262bd",
   "metadata": {},
   "outputs": [
    {
     "name": "stdout",
     "output_type": "stream",
     "text": [
      "20\n",
      "0\n",
      "30\n",
      "Исходные данные: [30, 4, 4, 29, 4, 27, 0, 12, 2, 8, 18, 25, 30, 1, 2, 12, 11, 2, 18, 28]\n",
      "11\n"
     ]
    }
   ],
   "source": [
    "import random\n",
    "import time\n",
    "\n",
    "def gen_list(n: int, min_val: int, max_val: int) -> list[int]:\n",
    "    return [random.randint(min_val, max_val) for _ in range(n)]\n",
    "\n",
    "def join_array(arr: list) -> str:\n",
    "    return '[' + ', '.join(arr) + ']'\n",
    "\n",
    "def print_found(values, index: int):\n",
    "    str_values = [str(value) for value in values]\n",
    "    \n",
    "    if index != -1:\n",
    "        str_values[index] = f'\\033[1m\\033[91m{str_values[index]}\\033[0m'\n",
    "        \n",
    "    print(join_array(str_values))\n",
    "    \n",
    "def value_index_pairs(data: list) -> list:\n",
    "        result = []\n",
    "        for i in range(len(data)):\n",
    "            result.append([data[i], i])\n",
    "        return result\n",
    "\n",
    "n = int(input())\n",
    "min_val = int(input())\n",
    "max_val = int(input())\n",
    "\n",
    "src_data = gen_list(n, min_val, max_val)\n",
    "\n",
    "print(f'Исходные данные: {src_data}')\n",
    "\n",
    "search_value = int(input())"
   ]
  },
  {
   "cell_type": "code",
   "execution_count": 84,
   "id": "162ffa7b",
   "metadata": {},
   "outputs": [
    {
     "name": "stdout",
     "output_type": "stream",
     "text": [
      "Время поиска: 0.082016 ms\n",
      "[30, 4, 4, 29, 4, 27, 0, 12, 2, 8, 18, 25, 30, 1, 2, 12, \u001b[1m\u001b[91m11\u001b[0m, 2, 18, 28]\n"
     ]
    }
   ],
   "source": [
    "#Стандартные методы\n",
    "start_time = time.time()\n",
    "found_index = src_data.index(search_value)\n",
    "print(\"Время поиска: {:.6f} ms\".format((time.time() - start_time) * 1000))\n",
    "print_found(src_data, found_index)"
   ]
  },
  {
   "cell_type": "code",
   "execution_count": 85,
   "id": "caring-truck",
   "metadata": {
    "scrolled": true
   },
   "outputs": [
    {
     "name": "stdout",
     "output_type": "stream",
     "text": [
      "Время поиска: 0.089169 ms\n",
      "[30, 4, 4, 29, 4, 27, 0, 12, 2, 8, 18, 25, 30, 1, 2, 12, \u001b[1m\u001b[91m11\u001b[0m, 2, 18, 28]\n"
     ]
    }
   ],
   "source": [
    "#Бинарный поиск\n",
    "def binary_search(data: list, key) -> int:\n",
    "    pairs = value_index_pairs(data)\n",
    "    sorted_pairs = sorted(pairs, key=lambda x: x[0])\n",
    "    left = 0\n",
    "    right = len(sorted_pairs) - 1\n",
    "    \n",
    "    while left <= right:\n",
    "        mid = (left + right) >> 1\n",
    "        curr_val = sorted_pairs[mid]\n",
    "        \n",
    "        if curr_val[0] == key:\n",
    "            return curr_val[1]\n",
    "        elif curr_val[0] < key:\n",
    "            left = mid + 1\n",
    "        else:\n",
    "            right = mid - 1\n",
    "    \n",
    "    return -1\n",
    "\n",
    "start_time = time.time()\n",
    "found_index = binary_search(src_data, search_value)\n",
    "print(\"Время поиска: {:.6f} ms\".format((time.time() - start_time) * 1000))\n",
    "print_found(src_data, found_index)"
   ]
  },
  {
   "cell_type": "code",
   "execution_count": 86,
   "id": "75af3ea8",
   "metadata": {},
   "outputs": [
    {
     "name": "stdout",
     "output_type": "stream",
     "text": [
      "Время поиска: 0.156164 ms\n",
      "[30, 4, 4, 29, 4, 27, 0, 12, 2, 8, 18, 25, 30, 1, 2, 12, \u001b[1m\u001b[91m11\u001b[0m, 2, 18, 28]\n"
     ]
    }
   ],
   "source": [
    "#Бинарное дерево\n",
    "class NodeData:\n",
    "    def __init__(self, value, index: int):\n",
    "        self.value = value\n",
    "        self.index = index\n",
    "\n",
    "class Node:\n",
    "    left = None\n",
    "    right = None\n",
    "    parent = None\n",
    "    \n",
    "    def __init__(self, data: NodeData):\n",
    "        self.data = data\n",
    "        \n",
    "    def insert(self, item: NodeData):\n",
    "        if item.value >= self.data.value:\n",
    "            if self.right == None:\n",
    "                self.right = Node(item)\n",
    "                self.right.parent = self\n",
    "            else:\n",
    "                self.right.insert(item)\n",
    "        else:\n",
    "            if self.left == None:\n",
    "                self.left = Node(item)\n",
    "                self.left.parent = self\n",
    "            else:\n",
    "                self.left.insert(item)\n",
    "            \n",
    "    def index(self, item) -> int:\n",
    "        if item == self.data.value:\n",
    "            return self.data.index\n",
    "        elif self.right != None and item > self.data.value:\n",
    "            return self.right.index(item)\n",
    "        elif self.left != None and item < self.data.value:\n",
    "            return self.left.index(item)\n",
    "        \n",
    "        return -1\n",
    "    \n",
    "    def remove(self, item):\n",
    "        if self.right != None and item > self.data.value:\n",
    "            self.right.remove(item)\n",
    "        elif self.left != None and item < self.data.value:\n",
    "            self.left.remove(item)\n",
    "        elif item == self.data.value:\n",
    "            if self.left != None and self.right != None:\n",
    "                if self.right.left == None:\n",
    "                    self.right.parent = None\n",
    "                    self.data = self.right.data\n",
    "                    self.right = self.right.right\n",
    "                else:\n",
    "                    most_left = self.right.left\n",
    "                    \n",
    "                    while most_left.left != None:\n",
    "                        most_left = most_left.left\n",
    "                        \n",
    "                    self.right.remove(most_left.data.value)\n",
    "                    self.data = most_left.data\n",
    "                    \n",
    "            elif self.left == None and self.right == None:\n",
    "                if self.parent.left == self:\n",
    "                    self.parent.left = None\n",
    "                else:\n",
    "                    self.parent.right = None\n",
    "                \n",
    "                self.parent = None\n",
    "                return\n",
    "            \n",
    "            elif self.left != None:\n",
    "                self.left.parent = None\n",
    "                self.data = self.left.data\n",
    "                self.right = self.left.right\n",
    "                self.left = self.left.left\n",
    "                \n",
    "            elif self.right != None:\n",
    "                self.right.parent = None\n",
    "                self.data = self.right.data\n",
    "                self.left = self.right.left\n",
    "                self.right = self.right.right\n",
    "\n",
    "start_time = time.time()\n",
    "\n",
    "binary_tree = Node(NodeData(src_data[0], 0))\n",
    "\n",
    "for i in range(1, len(src_data)):\n",
    "    binary_tree.insert(NodeData(src_data[i], i))\n",
    "    \n",
    "found_index = binary_tree.index(search_value)\n",
    "print(\"Время поиска: {:.6f} ms\".format((time.time() - start_time) * 1000))\n",
    "print_found(src_data, found_index)"
   ]
  },
  {
   "cell_type": "code",
   "execution_count": 87,
   "id": "abe4b0b4",
   "metadata": {},
   "outputs": [
    {
     "name": "stdout",
     "output_type": "stream",
     "text": [
      "Время поиска: 0.074863 ms\n",
      "[30, 4, 4, 29, 4, 27, 0, 12, 2, 8, 18, 25, 30, 1, 2, 12, \u001b[1m\u001b[91m11\u001b[0m, 2, 18, 28]\n"
     ]
    }
   ],
   "source": [
    "#Метод Фибоначчи\n",
    "class FibonacciSearch:\n",
    "    def __init__(self):\n",
    "        self.__i = 0\n",
    "        self.__p = 0\n",
    "        self.__q = 0\n",
    "        self.__is_searching = False\n",
    "    \n",
    "    def invoke(self, data: list, key) -> int:\n",
    "        pairs = value_index_pairs(data)\n",
    "        sorted_pairs = sorted(pairs, key=lambda x: x[0])\n",
    "        \n",
    "        self.__is_searching = True\n",
    "        self.__N = len(sorted_pairs)\n",
    "        self.__init_fibonacci_search()\n",
    "        \n",
    "        while self.__is_searching:        \n",
    "            if self.__i < 0:\n",
    "                self.__execute_bigger()\n",
    "            elif self.__i >= self.__N:\n",
    "                self.__execute_smaller()\n",
    "            elif sorted_pairs[self.__i][0] < key:\n",
    "                self.__execute_bigger()\n",
    "            elif sorted_pairs[self.__i][0] > key:\n",
    "                self.__execute_smaller()\n",
    "            else:\n",
    "                self.__is_searching = False\n",
    "                return sorted_pairs[self.__i][1]\n",
    "            \n",
    "        return -1\n",
    "    \n",
    "    def __init_fibonacci_search(self):\n",
    "        k = 0\n",
    "\n",
    "        while self.__fibonacci(k + 1) < self.__N + 1:\n",
    "            k += 1\n",
    "\n",
    "        M = self.__fibonacci(k + 1) - (self.__N + 1)\n",
    "        self.__i = self.__fibonacci(k) - M\n",
    "        self.__p = self.__fibonacci(k - 1)\n",
    "        self.__q = self.__fibonacci(k - 2)\n",
    "        \n",
    "    def __execute_bigger(self):\n",
    "        if self.__p == 1:\n",
    "            self.__is_searching = False\n",
    "        else:\n",
    "            self.__i = self.__i + self.__q\n",
    "            self.__p = self.__p - self.__q\n",
    "            self.__q = self.__q - self.__p\n",
    "        \n",
    "    def __execute_smaller(self):\n",
    "        if self.__q == 0:\n",
    "            self.__is_searching = False\n",
    "        else:\n",
    "            self.__i = self.__i - self.__q\n",
    "            self.__p, self.__q = self.__q, self.__p - self.__q\n",
    "    \n",
    "    def __fibonacci(self, index: int) -> int:\n",
    "        first = 0\n",
    "        second = 1\n",
    "        i = 0\n",
    "\n",
    "        while i < index:\n",
    "            first, second = second, first + second\n",
    "            i += 1\n",
    "\n",
    "        return first\n",
    "    \n",
    "    \n",
    "start_time = time.time()\n",
    "found_index = FibonacciSearch().invoke(src_data, search_value)\n",
    "print(\"Время поиска: {:.6f} ms\".format((time.time() - start_time) * 1000))\n",
    "print_found(src_data, found_index)"
   ]
  },
  {
   "cell_type": "code",
   "execution_count": 88,
   "id": "34ec2894",
   "metadata": {},
   "outputs": [
    {
     "name": "stdout",
     "output_type": "stream",
     "text": [
      "Время поиска: 0.049829 ms\n",
      "[30, 4, 4, 29, 4, 27, 0, 12, 2, 8, 18, 25, 30, 1, 2, 12, \u001b[1m\u001b[91m11\u001b[0m, 2, 18, 28]\n"
     ]
    }
   ],
   "source": [
    "#Интерполяционный\n",
    "def interpolation_search(data: list, key) -> int:\n",
    "    pairs = value_index_pairs(data)\n",
    "    sorted_pairs = sorted(pairs, key=lambda x: x[0])\n",
    "    left = 0\n",
    "    right = len(data) - 1\n",
    "\n",
    "    while left <= right:\n",
    "        right_value = sorted_pairs[right][0]\n",
    "        left_value = sorted_pairs[left][0]\n",
    "        \n",
    "        mid = left + (key - left_value) * (right - left) // (right_value - left_value)\n",
    "        curr_val = sorted_pairs[mid]\n",
    "        \n",
    "        if curr_val[0] < key:\n",
    "            left = mid + 1\n",
    "        elif curr_val[0] > key:\n",
    "            right = mid - 1\n",
    "        else:\n",
    "            return curr_val[1]\n",
    "\n",
    "    return -1\n",
    "    \n",
    "start_time = time.time()\n",
    "found_index = interpolation_search(src_data, search_value)\n",
    "print(\"Время поиска: {:.6f} ms\".format((time.time() - start_time) * 1000))\n",
    "print_found(src_data, found_index)"
   ]
  },
  {
   "cell_type": "markdown",
   "id": "maritime-conversation",
   "metadata": {},
   "source": [
    "### Задание №2\n",
    "Написать соответствующие решения для заданных методов."
   ]
  },
  {
   "cell_type": "code",
   "execution_count": 89,
   "id": "97f9de37",
   "metadata": {},
   "outputs": [
    {
     "name": "stdout",
     "output_type": "stream",
     "text": [
      "[None, None, None, None, None, None, None, None, None, None, None, None, None, None, None, None, None, None, None, None]\n",
      "[None, None, 2, 3, 2, 5, 22, 23, None, None, None, None, None, None, None, None, None, None, None, None]\n"
     ]
    }
   ],
   "source": [
    "#Простое рехэширование\n",
    "def linear_hash_insert(arr: list, value) -> bool:\n",
    "    N = len(arr)\n",
    "    v_hash = hash(value) % N\n",
    "    \n",
    "    if arr[v_hash] == None:\n",
    "        arr[v_hash] = value\n",
    "        return True\n",
    "    \n",
    "    next_v_hash = (v_hash + 1) % N\n",
    "    while next_v_hash != v_hash:\n",
    "        \n",
    "        if arr[next_v_hash] == None:\n",
    "            arr[next_v_hash] = value\n",
    "            return True\n",
    "        \n",
    "        next_v_hash = (next_v_hash + 1) % N\n",
    "        \n",
    "    return False\n",
    "\n",
    "arr = [None] * 20\n",
    "print(arr)\n",
    "linear_hash_insert(arr, 2)\n",
    "linear_hash_insert(arr, 3)\n",
    "linear_hash_insert(arr, 2)\n",
    "linear_hash_insert(arr, 5)\n",
    "linear_hash_insert(arr, 22)\n",
    "linear_hash_insert(arr, 23)\n",
    "print(arr)"
   ]
  },
  {
   "cell_type": "code",
   "execution_count": 90,
   "id": "b4b80e3a",
   "metadata": {},
   "outputs": [
    {
     "name": "stdout",
     "output_type": "stream",
     "text": [
      "[None, None, None, None, None, None, None, None, None, None, None, None, None, None, None, None, None, None, None, None]\n",
      "[None, None, 2, 3, 2, 5, None, None, None, None, 22, 23, None, None, None, None, None, None, None, None]\n"
     ]
    }
   ],
   "source": [
    "#Рехэширование с помощью псевдослучайных чисел\n",
    "\n",
    "def random_hash_insert(arr: list, value) -> bool:\n",
    "    N = len(arr)\n",
    "    v_hash = hash(value) % N\n",
    "    \n",
    "    if arr[v_hash] == None:\n",
    "        arr[v_hash] = value\n",
    "        return True\n",
    "    \n",
    "    R = 1\n",
    "    next_v_hash = (v_hash + R) % N\n",
    "    \n",
    "    while next_v_hash != v_hash:\n",
    "        \n",
    "        if arr[next_v_hash] == None:\n",
    "            arr[next_v_hash] = value\n",
    "            return True\n",
    "        \n",
    "        R = (5 * R) % (4 * N)\n",
    "        next_v_hash = (next_v_hash + (R >> 2)) % N\n",
    "        \n",
    "    return False\n",
    "\n",
    "arr = [None] * 20\n",
    "print(arr)\n",
    "random_hash_insert(arr, 2)\n",
    "random_hash_insert(arr, 3)\n",
    "random_hash_insert(arr, 2)\n",
    "random_hash_insert(arr, 5)\n",
    "random_hash_insert(arr, 22)\n",
    "random_hash_insert(arr, 23)\n",
    "print(arr)"
   ]
  },
  {
   "cell_type": "code",
   "execution_count": 91,
   "id": "1addc092",
   "metadata": {},
   "outputs": [
    {
     "name": "stdout",
     "output_type": "stream",
     "text": [
      "Заполненная хеш-таблица: [[0=3, 20=22], [1=2, 21=23], [2=5]]\n",
      "Получение значения из таблицы: 22\n",
      "Хеш-таблица после удаления элемента: [[0=3, 20=22], [1=2], [2=5]]\n"
     ]
    }
   ],
   "source": [
    "#Метод цепочек\n",
    "\n",
    "class PrimitiveHashTable:\n",
    "    class Entry:\n",
    "        def __init__(self, key, value):\n",
    "            self.key = key\n",
    "            self.value = value\n",
    "            \n",
    "        def __str__(self):\n",
    "            return str(self.key) + '=' + str(self.value)\n",
    "    \n",
    "    def __init__(self, size):\n",
    "        self.size = size\n",
    "        self.__buckets = [None] * size\n",
    "        \n",
    "    def insert(self, key, item):\n",
    "        i_hash = hash(key) % self.size\n",
    "        \n",
    "        if self.__buckets[i_hash] == None:\n",
    "            self.__buckets[i_hash] = []\n",
    "    \n",
    "        for entry in self.__buckets[i_hash]:\n",
    "            if entry.key == key:\n",
    "                self.__buckets[i_hash].remove(entry)\n",
    "                break\n",
    "    \n",
    "        self.__buckets[i_hash].append(self.Entry(key, item))\n",
    "        \n",
    "    def remove(self, key):\n",
    "        i_hash = hash(key) % self.size\n",
    "        \n",
    "        if self.__buckets[i_hash] != None:\n",
    "            for entry in self.__buckets[i_hash]:\n",
    "                if (entry.key == key):\n",
    "                    self.__buckets[i_hash].remove(entry)\n",
    "                    break\n",
    "                    \n",
    "    def get(self, key):\n",
    "        i_hash = hash(key) % self.size\n",
    "        \n",
    "        if self.__buckets[i_hash] != None:\n",
    "            for entry in self.__buckets[i_hash]:\n",
    "                if (entry.key == key):\n",
    "                    return entry.value\n",
    "                \n",
    "        return None\n",
    "        \n",
    "    def __str__(self):\n",
    "        not_none_buckets = [bucket for bucket in self.__buckets if bucket is not None]\n",
    "        str_buckets = [join_array(str(entry) for entry in bucket) for bucket in not_none_buckets]\n",
    "        return join_array(str_buckets)\n",
    "    \n",
    "hash_table = PrimitiveHashTable(20)\n",
    "\n",
    "hash_table.insert(0, 2)\n",
    "hash_table.insert(0, 3)\n",
    "hash_table.insert(1, 2)\n",
    "hash_table.insert(2, 5)\n",
    "hash_table.insert(20, 22)\n",
    "hash_table.insert(21, 23)\n",
    "print(f'Заполненная хеш-таблица: {hash_table}')\n",
    "\n",
    "print(f'Получение значения из таблицы: {hash_table.get(20)}')\n",
    "\n",
    "hash_table.remove(21)\n",
    "print(f'Хеш-таблица после удаления элемента: {hash_table}')"
   ]
  },
  {
   "cell_type": "markdown",
   "id": "catholic-roots",
   "metadata": {},
   "source": [
    "### Задание №3\n",
    "Расставить на стандартной 64-клеточной шахматной доске 8 ферзей так, чтобы ни один из них не находился под боем другого». Подразумевается, что ферзь бьёт все клетки, расположенные по вертикалям, горизонталям и обеим диагоналям\n",
    "Написать программу,  которая находит хотя бы один способ решения задач.\n"
   ]
  },
  {
   "cell_type": "code",
   "execution_count": 20,
   "id": "ce1caa6d",
   "metadata": {},
   "outputs": [
    {
     "name": "stdout",
     "output_type": "stream",
     "text": [
      "   1   0   0   0   0   0   0   0\n",
      "   0   0   0   0   1   0   0   0\n",
      "   0   0   0   0   0   0   0   1\n",
      "   0   0   0   0   0   1   0   0\n",
      "   0   0   1   0   0   0   0   0\n",
      "   0   0   0   0   0   0   1   0\n",
      "   0   1   0   0   0   0   0   0\n",
      "   0   0   0   1   0   0   0   0\n"
     ]
    },
    {
     "data": {
      "text/plain": [
       "True"
      ]
     },
     "execution_count": 20,
     "metadata": {},
     "output_type": "execute_result"
    }
   ],
   "source": [
    "def print_matrix(matrix: list[list[int]]):\n",
    "    print('\\n'.join([''.join(['{:4}'.format(item) for item in row]) for row in matrix]))\n",
    "\n",
    "def can_be_placed(desk: list[list[int]], x: int, y: int) -> bool:\n",
    "    for i in range(len(desk)):\n",
    "        if desk[y][i] == 1 or desk[i][x] == 1:\n",
    "            return False\n",
    "            \n",
    "    c = y - x\n",
    "    \n",
    "    yd = [j for j in range(max(0, c), min(8, 8 + c))]\n",
    "    xd = [i for i in range(max(0, -c), min(8, 8 - c))]\n",
    "\n",
    "    for i in range(len(yd)):\n",
    "        if desk[yd[i]][xd[i]] == 1:\n",
    "            return False\n",
    "        \n",
    "    c = y - 7 + x\n",
    "        \n",
    "    yd = [j for j in range(min(7, 7 + c), max(-1, c - 1), -1)]\n",
    "    xd = [i for i in range(max(0, c), min(8, 8 + c))]\n",
    "    \n",
    "    for i in range(len(yd)):\n",
    "        if desk[yd[i]][xd[i]] == 1:\n",
    "            return False\n",
    "            \n",
    "    return True\n",
    "\n",
    "def process_queens(desk: list[list[int]], row_index: int) -> bool:\n",
    "    queen_count = 0\n",
    "    for row in desk:\n",
    "        for cell in row:\n",
    "            if cell == 1:\n",
    "                queen_count += 1\n",
    "                \n",
    "    if queen_count == 8:\n",
    "        print_matrix(desk)\n",
    "        return True\n",
    "    \n",
    "    for i in range(len(desk[row_index])):\n",
    "        if can_be_placed(desk, i, row_index):\n",
    "            desk[row_index][i] = 1\n",
    "            if process_queens(desk, row_index + 1):\n",
    "                return True\n",
    "            else:\n",
    "                desk[row_index][i] = 0\n",
    "    \n",
    "    return False\n",
    "\n",
    "desk = [[0 for _ in range(8)] for _ in range(8)]\n",
    "\n",
    "\n",
    "process_queens(desk, 0)"
   ]
  }
 ],
 "metadata": {
  "kernelspec": {
   "display_name": "Python 3 (ipykernel)",
   "language": "python",
   "name": "python3"
  },
  "language_info": {
   "codemirror_mode": {
    "name": "ipython",
    "version": 3
   },
   "file_extension": ".py",
   "mimetype": "text/x-python",
   "name": "python",
   "nbconvert_exporter": "python",
   "pygments_lexer": "ipython3",
   "version": "3.10.2"
  }
 },
 "nbformat": 4,
 "nbformat_minor": 5
}
